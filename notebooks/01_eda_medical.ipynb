{
 "cells": [
  {
   "cell_type": "code",
   "execution_count": 1,
   "id": "7f6102f2",
   "metadata": {},
   "outputs": [],
   "source": [
    "from mednlpix.data.loader import get_medical_dataset\n",
    "from mednlpix.data.splitter import split_medical_dataset"
   ]
  },
  {
   "cell_type": "code",
   "execution_count": 2,
   "id": "a518c7bc",
   "metadata": {},
   "outputs": [
    {
     "name": "stderr",
     "output_type": "stream",
     "text": [
      "2025-10-07 14:01:36,574 - mednlpix.data.loader - INFO - Searching for dataset in: /Users/surelmanda/Data-Science-Projects/MedNLPix/data/raw\n",
      "2025-10-07 14:01:36,576 - mednlpix.data.loader - INFO - Dataset found: medical-abstracts-dataset.csv\n",
      "2025-10-07 14:01:36,577 - mednlpix.data.loader - INFO - Loading dataset from: /Users/surelmanda/Data-Science-Projects/MedNLPix/data/raw/medical-abstracts-dataset.csv\n",
      "2025-10-07 14:01:36,609 - mednlpix.data.loader - INFO - Dataset loaded successfully — the input data has 2286 rows and 2 columns.\n",
      "2025-10-07 14:01:36,610 - mednlpix.data.loader - INFO - Dataset successfully retrieved and loaded.\n"
     ]
    },
    {
     "name": "stdout",
     "output_type": "stream",
     "text": [
      "\n",
      "============================================================\n",
      "Load Medical Dataset\n",
      "============================================================\n",
      "\n",
      "Loaded dataset: medical-abstracts-dataset.csv, shape = (2286, 2)\n"
     ]
    },
    {
     "data": {
      "text/html": [
       "<div>\n",
       "<style scoped>\n",
       "    .dataframe tbody tr th:only-of-type {\n",
       "        vertical-align: middle;\n",
       "    }\n",
       "\n",
       "    .dataframe tbody tr th {\n",
       "        vertical-align: top;\n",
       "    }\n",
       "\n",
       "    .dataframe thead th {\n",
       "        text-align: right;\n",
       "    }\n",
       "</style>\n",
       "<table border=\"1\" class=\"dataframe\">\n",
       "  <thead>\n",
       "    <tr style=\"text-align: right;\">\n",
       "      <th></th>\n",
       "      <th>condition_label</th>\n",
       "      <th>medical_abstract</th>\n",
       "    </tr>\n",
       "  </thead>\n",
       "  <tbody>\n",
       "    <tr>\n",
       "      <th>0</th>\n",
       "      <td>cardiovascular diseases</td>\n",
       "      <td>Coronary artery bypass grafting in a patient w...</td>\n",
       "    </tr>\n",
       "    <tr>\n",
       "      <th>1</th>\n",
       "      <td>cardiovascular diseases</td>\n",
       "      <td>Conservative management of aortic lacerations ...</td>\n",
       "    </tr>\n",
       "    <tr>\n",
       "      <th>2</th>\n",
       "      <td>cardiovascular diseases</td>\n",
       "      <td>Sudden death from acute cocaine intoxication i...</td>\n",
       "    </tr>\n",
       "    <tr>\n",
       "      <th>3</th>\n",
       "      <td>cardiovascular diseases</td>\n",
       "      <td>Catheterization of coronary artery bypass graf...</td>\n",
       "    </tr>\n",
       "    <tr>\n",
       "      <th>4</th>\n",
       "      <td>cardiovascular diseases</td>\n",
       "      <td>Spontaneous rupture of an aortic aneurysm into...</td>\n",
       "    </tr>\n",
       "  </tbody>\n",
       "</table>\n",
       "</div>"
      ],
      "text/plain": [
       "           condition_label                                   medical_abstract\n",
       "0  cardiovascular diseases  Coronary artery bypass grafting in a patient w...\n",
       "1  cardiovascular diseases  Conservative management of aortic lacerations ...\n",
       "2  cardiovascular diseases  Sudden death from acute cocaine intoxication i...\n",
       "3  cardiovascular diseases  Catheterization of coronary artery bypass graf...\n",
       "4  cardiovascular diseases  Spontaneous rupture of an aortic aneurysm into..."
      ]
     },
     "metadata": {},
     "output_type": "display_data"
    }
   ],
   "source": [
    "print(\"\\n\" + \"=\"*60)\n",
    "print(\"Load Medical Dataset\")\n",
    "print(\"=\"*60 + \"\\n\")\n",
    "\n",
    "data, dataset_path = get_medical_dataset(return_path=True)\n",
    "\n",
    "print(f\"Loaded dataset: {dataset_path.name}, shape = {data.shape}\")\n",
    "display(data.head())"
   ]
  },
  {
   "cell_type": "code",
   "execution_count": 3,
   "id": "3a421103",
   "metadata": {},
   "outputs": [
    {
     "name": "stderr",
     "output_type": "stream",
     "text": [
      "2025-10-07 14:01:39,164 - mednlpix.data.splitter - INFO - Split - Train: (1600, 2), Valid: (343, 2), Test: (343, 2)\n"
     ]
    },
    {
     "name": "stdout",
     "output_type": "stream",
     "text": [
      "\n",
      "============================================================\n",
      "Split Medical Dataset into train/valid/test\n",
      "============================================================\n",
      "\n",
      "Training set: 1600 rows × 2 columns\n"
     ]
    },
    {
     "data": {
      "text/html": [
       "<div>\n",
       "<style scoped>\n",
       "    .dataframe tbody tr th:only-of-type {\n",
       "        vertical-align: middle;\n",
       "    }\n",
       "\n",
       "    .dataframe tbody tr th {\n",
       "        vertical-align: top;\n",
       "    }\n",
       "\n",
       "    .dataframe thead th {\n",
       "        text-align: right;\n",
       "    }\n",
       "</style>\n",
       "<table border=\"1\" class=\"dataframe\">\n",
       "  <thead>\n",
       "    <tr style=\"text-align: right;\">\n",
       "      <th></th>\n",
       "      <th>condition_label</th>\n",
       "      <th>medical_abstract</th>\n",
       "    </tr>\n",
       "  </thead>\n",
       "  <tbody>\n",
       "    <tr>\n",
       "      <th>300</th>\n",
       "      <td>cardiovascular diseases</td>\n",
       "      <td>Recurrent intracaval renal cell carcinoma: the...</td>\n",
       "    </tr>\n",
       "    <tr>\n",
       "      <th>771</th>\n",
       "      <td>general pathological conditions</td>\n",
       "      <td>Anterior cervical discectomy and fusion. A ret...</td>\n",
       "    </tr>\n",
       "    <tr>\n",
       "      <th>1085</th>\n",
       "      <td>general pathological conditions</td>\n",
       "      <td>Stiffman syndrome: a rare paraneoplastic disor...</td>\n",
       "    </tr>\n",
       "  </tbody>\n",
       "</table>\n",
       "</div>"
      ],
      "text/plain": [
       "                      condition_label  \\\n",
       "300           cardiovascular diseases   \n",
       "771   general pathological conditions   \n",
       "1085  general pathological conditions   \n",
       "\n",
       "                                       medical_abstract  \n",
       "300   Recurrent intracaval renal cell carcinoma: the...  \n",
       "771   Anterior cervical discectomy and fusion. A ret...  \n",
       "1085  Stiffman syndrome: a rare paraneoplastic disor...  "
      ]
     },
     "metadata": {},
     "output_type": "display_data"
    },
    {
     "name": "stdout",
     "output_type": "stream",
     "text": [
      "Validation set: 343 rows × 2 columns\n"
     ]
    },
    {
     "data": {
      "text/html": [
       "<div>\n",
       "<style scoped>\n",
       "    .dataframe tbody tr th:only-of-type {\n",
       "        vertical-align: middle;\n",
       "    }\n",
       "\n",
       "    .dataframe tbody tr th {\n",
       "        vertical-align: top;\n",
       "    }\n",
       "\n",
       "    .dataframe thead th {\n",
       "        text-align: right;\n",
       "    }\n",
       "</style>\n",
       "<table border=\"1\" class=\"dataframe\">\n",
       "  <thead>\n",
       "    <tr style=\"text-align: right;\">\n",
       "      <th></th>\n",
       "      <th>condition_label</th>\n",
       "      <th>medical_abstract</th>\n",
       "    </tr>\n",
       "  </thead>\n",
       "  <tbody>\n",
       "    <tr>\n",
       "      <th>1270</th>\n",
       "      <td>neoplasms</td>\n",
       "      <td>Primary prevention of cancer. The case for com...</td>\n",
       "    </tr>\n",
       "    <tr>\n",
       "      <th>1264</th>\n",
       "      <td>general pathological conditions</td>\n",
       "      <td>Spontaneous rupture of a normal bladder. We ha...</td>\n",
       "    </tr>\n",
       "    <tr>\n",
       "      <th>1933</th>\n",
       "      <td>nervous system diseases</td>\n",
       "      <td>Orbital intramuscular schwannoma. In an 8-year...</td>\n",
       "    </tr>\n",
       "  </tbody>\n",
       "</table>\n",
       "</div>"
      ],
      "text/plain": [
       "                      condition_label  \\\n",
       "1270                        neoplasms   \n",
       "1264  general pathological conditions   \n",
       "1933          nervous system diseases   \n",
       "\n",
       "                                       medical_abstract  \n",
       "1270  Primary prevention of cancer. The case for com...  \n",
       "1264  Spontaneous rupture of a normal bladder. We ha...  \n",
       "1933  Orbital intramuscular schwannoma. In an 8-year...  "
      ]
     },
     "metadata": {},
     "output_type": "display_data"
    },
    {
     "name": "stdout",
     "output_type": "stream",
     "text": [
      "Test set: 343 rows × 2 columns\n"
     ]
    },
    {
     "data": {
      "text/html": [
       "<div>\n",
       "<style scoped>\n",
       "    .dataframe tbody tr th:only-of-type {\n",
       "        vertical-align: middle;\n",
       "    }\n",
       "\n",
       "    .dataframe tbody tr th {\n",
       "        vertical-align: top;\n",
       "    }\n",
       "\n",
       "    .dataframe thead th {\n",
       "        text-align: right;\n",
       "    }\n",
       "</style>\n",
       "<table border=\"1\" class=\"dataframe\">\n",
       "  <thead>\n",
       "    <tr style=\"text-align: right;\">\n",
       "      <th></th>\n",
       "      <th>condition_label</th>\n",
       "      <th>medical_abstract</th>\n",
       "    </tr>\n",
       "  </thead>\n",
       "  <tbody>\n",
       "    <tr>\n",
       "      <th>785</th>\n",
       "      <td>general pathological conditions</td>\n",
       "      <td>Urinary tract infections. Urinary tract infect...</td>\n",
       "    </tr>\n",
       "    <tr>\n",
       "      <th>436</th>\n",
       "      <td>digestive system diseases</td>\n",
       "      <td>Endoscopic appearance and significance of func...</td>\n",
       "    </tr>\n",
       "    <tr>\n",
       "      <th>1831</th>\n",
       "      <td>neoplasms</td>\n",
       "      <td>Flexible sigmoidoscopy as a screening procedur...</td>\n",
       "    </tr>\n",
       "  </tbody>\n",
       "</table>\n",
       "</div>"
      ],
      "text/plain": [
       "                      condition_label  \\\n",
       "785   general pathological conditions   \n",
       "436         digestive system diseases   \n",
       "1831                        neoplasms   \n",
       "\n",
       "                                       medical_abstract  \n",
       "785   Urinary tract infections. Urinary tract infect...  \n",
       "436   Endoscopic appearance and significance of func...  \n",
       "1831  Flexible sigmoidoscopy as a screening procedur...  "
      ]
     },
     "metadata": {},
     "output_type": "display_data"
    }
   ],
   "source": [
    "# ==============================================\n",
    "# Split Medical Dataset into train/valid/test\n",
    "# ==============================================\n",
    "print(\"\\n\" + \"=\" * 60)\n",
    "print(\"Split Medical Dataset into train/valid/test\")\n",
    "print(\"=\" * 60 + \"\\n\")\n",
    "\n",
    "# Perform the split\n",
    "train_size, valid_size, test_size = 0.7, 0.15, 0.15\n",
    "train_df, valid_df, test_df = split_medical_dataset(data,train_size, valid_size, test_size)\n",
    "\n",
    "# Display summary information\n",
    "print(f\"Training set: {train_df.shape[0]} rows × {train_df.shape[1]} columns\")\n",
    "display(train_df.head(3))\n",
    "\n",
    "print(f\"Validation set: {valid_df.shape[0]} rows × {valid_df.shape[1]} columns\")\n",
    "display(valid_df.head(3))\n",
    "\n",
    "print(f\"Test set: {test_df.shape[0]} rows × {test_df.shape[1]} columns\")\n",
    "display(test_df.head(3))\n"
   ]
  },
  {
   "cell_type": "code",
   "execution_count": 2,
   "id": "5b5c1f62",
   "metadata": {},
   "outputs": [
    {
     "name": "stderr",
     "output_type": "stream",
     "text": [
      "2025-10-07 14:40:05,342 - mednlpix.features.preprocessing.setup.nltk_setup - INFO - Downloading NLTK resource 'stopwords' to /Users/surelmanda/Data-Science-Projects/MedNLPix/src/mednlpix/features/resources/nltk_data...\n",
      "[nltk_data] Downloading package stopwords to /Users/surelmanda/Data-\n",
      "[nltk_data]     Science-Projects/MedNLPix/src/mednlpix/features/resour\n",
      "[nltk_data]     ces/nltk_data...\n",
      "[nltk_data]   Unzipping corpora/stopwords.zip.\n",
      "2025-10-07 14:40:05,763 - mednlpix.features.preprocessing.setup.nltk_setup - INFO - Downloading NLTK resource 'punkt' to /Users/surelmanda/Data-Science-Projects/MedNLPix/src/mednlpix/features/resources/nltk_data...\n",
      "[nltk_data] Downloading package punkt to /Users/surelmanda/Data-\n",
      "[nltk_data]     Science-Projects/MedNLPix/src/mednlpix/features/resour\n",
      "[nltk_data]     ces/nltk_data...\n",
      "[nltk_data] Error downloading 'punkt' from\n",
      "[nltk_data]     <https://raw.githubusercontent.com/nltk/nltk_data/gh-\n",
      "[nltk_data]     pages/packages/tokenizers/punkt.zip>:   [Errno 28] No\n",
      "[nltk_data]     space left on device\n",
      "2025-10-07 14:40:06,216 - mednlpix.features.preprocessing.setup.nltk_setup - INFO - Downloading NLTK resource 'wordnet' to /Users/surelmanda/Data-Science-Projects/MedNLPix/src/mednlpix/features/resources/nltk_data...\n",
      "[nltk_data] Downloading package wordnet to /Users/surelmanda/Data-\n",
      "[nltk_data]     Science-Projects/MedNLPix/src/mednlpix/features/resour\n",
      "[nltk_data]     ces/nltk_data...\n",
      "[nltk_data] Error downloading 'wordnet' from\n",
      "[nltk_data]     <https://raw.githubusercontent.com/nltk/nltk_data/gh-\n",
      "[nltk_data]     pages/packages/corpora/wordnet.zip>:   [Errno 28] No\n",
      "[nltk_data]     space left on device: '/Users/surelmanda/Data-Science-\n",
      "[nltk_data]     Projects/MedNLPix/src/mednlpix/features/resources/nltk\n",
      "[nltk_data]     _data/corpora/wordnet.zip'\n",
      "2025-10-07 14:40:06,285 - mednlpix.features.preprocessing.setup.nltk_setup - INFO - NLTK setup complete.\n"
     ]
    },
    {
     "ename": "OSError",
     "evalue": "[Errno 28] No space left on device: '/Users/surelmanda/Data-Science-Projects/MedNLPix/src/mednlpix/logger/logs/mednlpix.features.preprocessing.text_cleaner.log'",
     "output_type": "error",
     "traceback": [
      "\u001b[31m---------------------------------------------------------------------------\u001b[39m",
      "\u001b[31mOSError\u001b[39m                                   Traceback (most recent call last)",
      "\u001b[36mCell\u001b[39m\u001b[36m \u001b[39m\u001b[32mIn[2]\u001b[39m\u001b[32m, line 1\u001b[39m\n\u001b[32m----> \u001b[39m\u001b[32m1\u001b[39m \u001b[38;5;28;01mfrom\u001b[39;00m\u001b[38;5;250m \u001b[39m\u001b[34;01mmednlpix\u001b[39;00m\u001b[34;01m.\u001b[39;00m\u001b[34;01mfeatures\u001b[39;00m\u001b[34;01m.\u001b[39;00m\u001b[34;01mpreprocessing\u001b[39;00m\u001b[38;5;250m \u001b[39m\u001b[38;5;28;01mimport\u001b[39;00m MedicalTextPreprocessor\n",
      "\u001b[36mFile \u001b[39m\u001b[32m~/Data-Science-Projects/MedNLPix/src/mednlpix/features/preprocessing/__init__.py:3\u001b[39m\n\u001b[32m      1\u001b[39m \u001b[38;5;66;03m# src/mednlpix/features/preprocessing/__init__.py\u001b[39;00m\n\u001b[32m----> \u001b[39m\u001b[32m3\u001b[39m \u001b[38;5;28;01mfrom\u001b[39;00m\u001b[38;5;250m \u001b[39m\u001b[34;01mmednlpix\u001b[39;00m\u001b[34;01m.\u001b[39;00m\u001b[34;01mfeatures\u001b[39;00m\u001b[34;01m.\u001b[39;00m\u001b[34;01mpreprocessing\u001b[39;00m\u001b[34;01m.\u001b[39;00m\u001b[34;01mmedical_preprocessor\u001b[39;00m\u001b[38;5;250m \u001b[39m\u001b[38;5;28;01mimport\u001b[39;00m MedicalTextPreprocessor\n\u001b[32m      4\u001b[39m \u001b[38;5;28;01mfrom\u001b[39;00m\u001b[38;5;250m \u001b[39m\u001b[34;01mmednlpix\u001b[39;00m\u001b[34;01m.\u001b[39;00m\u001b[34;01mfeatures\u001b[39;00m\u001b[34;01m.\u001b[39;00m\u001b[34;01mpreprocessing\u001b[39;00m\u001b[34;01m.\u001b[39;00m\u001b[34;01mtext_cleaner\u001b[39;00m\u001b[38;5;250m \u001b[39m\u001b[38;5;28;01mimport\u001b[39;00m clean_text\n\u001b[32m      5\u001b[39m \u001b[38;5;28;01mfrom\u001b[39;00m\u001b[38;5;250m \u001b[39m\u001b[34;01mmednlpix\u001b[39;00m\u001b[34;01m.\u001b[39;00m\u001b[34;01mfeatures\u001b[39;00m\u001b[34;01m.\u001b[39;00m\u001b[34;01mpreprocessing\u001b[39;00m\u001b[34;01m.\u001b[39;00m\u001b[34;01mbase\u001b[39;00m\u001b[38;5;250m \u001b[39m\u001b[38;5;28;01mimport\u001b[39;00m BasePreprocessor\n",
      "\u001b[36mFile \u001b[39m\u001b[32m~/Data-Science-Projects/MedNLPix/src/mednlpix/features/preprocessing/medical_preprocessor.py:5\u001b[39m\n\u001b[32m      3\u001b[39m \u001b[38;5;28;01mfrom\u001b[39;00m\u001b[38;5;250m \u001b[39m\u001b[34;01mmednlpix\u001b[39;00m\u001b[34;01m.\u001b[39;00m\u001b[34;01mlogger\u001b[39;00m\u001b[34;01m.\u001b[39;00m\u001b[34;01mlogger\u001b[39;00m\u001b[38;5;250m \u001b[39m\u001b[38;5;28;01mimport\u001b[39;00m setup_logger\n\u001b[32m      4\u001b[39m \u001b[38;5;28;01mfrom\u001b[39;00m\u001b[38;5;250m \u001b[39m\u001b[34;01mmednlpix\u001b[39;00m\u001b[34;01m.\u001b[39;00m\u001b[34;01mfeatures\u001b[39;00m\u001b[34;01m.\u001b[39;00m\u001b[34;01mpreprocessing\u001b[39;00m\u001b[34;01m.\u001b[39;00m\u001b[34;01mbase\u001b[39;00m\u001b[38;5;250m \u001b[39m\u001b[38;5;28;01mimport\u001b[39;00m BasePreprocessor\n\u001b[32m----> \u001b[39m\u001b[32m5\u001b[39m \u001b[38;5;28;01mfrom\u001b[39;00m\u001b[38;5;250m \u001b[39m\u001b[34;01mmednlpix\u001b[39;00m\u001b[34;01m.\u001b[39;00m\u001b[34;01mfeatures\u001b[39;00m\u001b[34;01m.\u001b[39;00m\u001b[34;01mpreprocessing\u001b[39;00m\u001b[34;01m.\u001b[39;00m\u001b[34;01mtext_cleaner\u001b[39;00m\u001b[38;5;250m \u001b[39m\u001b[38;5;28;01mimport\u001b[39;00m clean_text\n\u001b[32m      7\u001b[39m logger = setup_logger(\u001b[34m__name__\u001b[39m)\n\u001b[32m     10\u001b[39m \u001b[38;5;28;01mclass\u001b[39;00m\u001b[38;5;250m \u001b[39m\u001b[34;01mMedicalTextPreprocessor\u001b[39;00m(BasePreprocessor):\n",
      "\u001b[36mFile \u001b[39m\u001b[32m~/Data-Science-Projects/MedNLPix/src/mednlpix/features/preprocessing/text_cleaner.py:10\u001b[39m\n\u001b[32m      7\u001b[39m \u001b[38;5;28;01mfrom\u001b[39;00m\u001b[38;5;250m \u001b[39m\u001b[34;01mnltk\u001b[39;00m\u001b[34;01m.\u001b[39;00m\u001b[34;01mtokenize\u001b[39;00m\u001b[38;5;250m \u001b[39m\u001b[38;5;28;01mimport\u001b[39;00m word_tokenize\n\u001b[32m      8\u001b[39m \u001b[38;5;28;01mfrom\u001b[39;00m\u001b[38;5;250m \u001b[39m\u001b[34;01mmednlpix\u001b[39;00m\u001b[34;01m.\u001b[39;00m\u001b[34;01mlogger\u001b[39;00m\u001b[34;01m.\u001b[39;00m\u001b[34;01mlogger\u001b[39;00m\u001b[38;5;250m \u001b[39m\u001b[38;5;28;01mimport\u001b[39;00m setup_logger\n\u001b[32m---> \u001b[39m\u001b[32m10\u001b[39m logger = \u001b[43msetup_logger\u001b[49m\u001b[43m(\u001b[49m\u001b[34;43m__name__\u001b[39;49m\u001b[43m)\u001b[49m\n\u001b[32m     12\u001b[39m \u001b[38;5;28;01mdef\u001b[39;00m\u001b[38;5;250m \u001b[39m\u001b[34mclean_text\u001b[39m(text: \u001b[38;5;28mstr\u001b[39m) -> \u001b[38;5;28mstr\u001b[39m:\n\u001b[32m     13\u001b[39m \u001b[38;5;250m    \u001b[39m\u001b[33;03m\"\"\"\u001b[39;00m\n\u001b[32m     14\u001b[39m \u001b[33;03m    Clean and preprocess a text string.\u001b[39;00m\n\u001b[32m     15\u001b[39m \u001b[33;03m    \"\"\"\u001b[39;00m\n",
      "\u001b[36mFile \u001b[39m\u001b[32m~/Data-Science-Projects/MedNLPix/src/mednlpix/logger/logger.py:63\u001b[39m, in \u001b[36msetup_logger\u001b[39m\u001b[34m(name, log_path, level)\u001b[39m\n\u001b[32m     60\u001b[39m log_file = path.join(log_path, \u001b[33mf\u001b[39m\u001b[33m\"\u001b[39m\u001b[38;5;132;01m{\u001b[39;00mname\u001b[38;5;132;01m}\u001b[39;00m\u001b[33m.log\u001b[39m\u001b[33m\"\u001b[39m)\n\u001b[32m     62\u001b[39m \u001b[38;5;66;03m# File handler with rotation\u001b[39;00m\n\u001b[32m---> \u001b[39m\u001b[32m63\u001b[39m handler = \u001b[43mRotatingFileHandler\u001b[49m\u001b[43m(\u001b[49m\n\u001b[32m     64\u001b[39m \u001b[43m    \u001b[49m\u001b[43mlog_file\u001b[49m\u001b[43m,\u001b[49m\n\u001b[32m     65\u001b[39m \u001b[43m    \u001b[49m\u001b[43mmaxBytes\u001b[49m\u001b[43m=\u001b[49m\u001b[32;43m5\u001b[39;49m\u001b[43m \u001b[49m\u001b[43m*\u001b[49m\u001b[43m \u001b[49m\u001b[32;43m1024\u001b[39;49m\u001b[43m \u001b[49m\u001b[43m*\u001b[49m\u001b[43m \u001b[49m\u001b[32;43m1024\u001b[39;49m\u001b[43m,\u001b[49m\u001b[43m  \u001b[49m\u001b[38;5;66;43;03m# 5 MB\u001b[39;49;00m\n\u001b[32m     66\u001b[39m \u001b[43m    \u001b[49m\u001b[43mbackupCount\u001b[49m\u001b[43m=\u001b[49m\u001b[32;43m5\u001b[39;49m\u001b[43m,\u001b[49m\n\u001b[32m     67\u001b[39m \u001b[43m\u001b[49m\u001b[43m)\u001b[49m\n\u001b[32m     68\u001b[39m handler.setFormatter(formatter)\n\u001b[32m     69\u001b[39m logger.addHandler(handler)\n",
      "\u001b[36mFile \u001b[39m\u001b[32m~/.pyenv/versions/3.11.6/lib/python3.11/logging/handlers.py:155\u001b[39m, in \u001b[36mRotatingFileHandler.__init__\u001b[39m\u001b[34m(self, filename, mode, maxBytes, backupCount, encoding, delay, errors)\u001b[39m\n\u001b[32m    153\u001b[39m \u001b[38;5;28;01mif\u001b[39;00m \u001b[33m\"\u001b[39m\u001b[33mb\u001b[39m\u001b[33m\"\u001b[39m \u001b[38;5;129;01mnot\u001b[39;00m \u001b[38;5;129;01min\u001b[39;00m mode:\n\u001b[32m    154\u001b[39m     encoding = io.text_encoding(encoding)\n\u001b[32m--> \u001b[39m\u001b[32m155\u001b[39m \u001b[43mBaseRotatingHandler\u001b[49m\u001b[43m.\u001b[49m\u001b[34;43m__init__\u001b[39;49m\u001b[43m(\u001b[49m\u001b[38;5;28;43mself\u001b[39;49m\u001b[43m,\u001b[49m\u001b[43m \u001b[49m\u001b[43mfilename\u001b[49m\u001b[43m,\u001b[49m\u001b[43m \u001b[49m\u001b[43mmode\u001b[49m\u001b[43m,\u001b[49m\u001b[43m \u001b[49m\u001b[43mencoding\u001b[49m\u001b[43m=\u001b[49m\u001b[43mencoding\u001b[49m\u001b[43m,\u001b[49m\n\u001b[32m    156\u001b[39m \u001b[43m                             \u001b[49m\u001b[43mdelay\u001b[49m\u001b[43m=\u001b[49m\u001b[43mdelay\u001b[49m\u001b[43m,\u001b[49m\u001b[43m \u001b[49m\u001b[43merrors\u001b[49m\u001b[43m=\u001b[49m\u001b[43merrors\u001b[49m\u001b[43m)\u001b[49m\n\u001b[32m    157\u001b[39m \u001b[38;5;28mself\u001b[39m.maxBytes = maxBytes\n\u001b[32m    158\u001b[39m \u001b[38;5;28mself\u001b[39m.backupCount = backupCount\n",
      "\u001b[36mFile \u001b[39m\u001b[32m~/.pyenv/versions/3.11.6/lib/python3.11/logging/handlers.py:58\u001b[39m, in \u001b[36mBaseRotatingHandler.__init__\u001b[39m\u001b[34m(self, filename, mode, encoding, delay, errors)\u001b[39m\n\u001b[32m     54\u001b[39m \u001b[38;5;28;01mdef\u001b[39;00m\u001b[38;5;250m \u001b[39m\u001b[34m__init__\u001b[39m(\u001b[38;5;28mself\u001b[39m, filename, mode, encoding=\u001b[38;5;28;01mNone\u001b[39;00m, delay=\u001b[38;5;28;01mFalse\u001b[39;00m, errors=\u001b[38;5;28;01mNone\u001b[39;00m):\n\u001b[32m     55\u001b[39m \u001b[38;5;250m    \u001b[39m\u001b[33;03m\"\"\"\u001b[39;00m\n\u001b[32m     56\u001b[39m \u001b[33;03m    Use the specified filename for streamed logging\u001b[39;00m\n\u001b[32m     57\u001b[39m \u001b[33;03m    \"\"\"\u001b[39;00m\n\u001b[32m---> \u001b[39m\u001b[32m58\u001b[39m     \u001b[43mlogging\u001b[49m\u001b[43m.\u001b[49m\u001b[43mFileHandler\u001b[49m\u001b[43m.\u001b[49m\u001b[34;43m__init__\u001b[39;49m\u001b[43m(\u001b[49m\u001b[38;5;28;43mself\u001b[39;49m\u001b[43m,\u001b[49m\u001b[43m \u001b[49m\u001b[43mfilename\u001b[49m\u001b[43m,\u001b[49m\u001b[43m \u001b[49m\u001b[43mmode\u001b[49m\u001b[43m=\u001b[49m\u001b[43mmode\u001b[49m\u001b[43m,\u001b[49m\n\u001b[32m     59\u001b[39m \u001b[43m                                 \u001b[49m\u001b[43mencoding\u001b[49m\u001b[43m=\u001b[49m\u001b[43mencoding\u001b[49m\u001b[43m,\u001b[49m\u001b[43m \u001b[49m\u001b[43mdelay\u001b[49m\u001b[43m=\u001b[49m\u001b[43mdelay\u001b[49m\u001b[43m,\u001b[49m\n\u001b[32m     60\u001b[39m \u001b[43m                                 \u001b[49m\u001b[43merrors\u001b[49m\u001b[43m=\u001b[49m\u001b[43merrors\u001b[49m\u001b[43m)\u001b[49m\n\u001b[32m     61\u001b[39m     \u001b[38;5;28mself\u001b[39m.mode = mode\n\u001b[32m     62\u001b[39m     \u001b[38;5;28mself\u001b[39m.encoding = encoding\n",
      "\u001b[36mFile \u001b[39m\u001b[32m~/.pyenv/versions/3.11.6/lib/python3.11/logging/__init__.py:1181\u001b[39m, in \u001b[36mFileHandler.__init__\u001b[39m\u001b[34m(self, filename, mode, encoding, delay, errors)\u001b[39m\n\u001b[32m   1179\u001b[39m     \u001b[38;5;28mself\u001b[39m.stream = \u001b[38;5;28;01mNone\u001b[39;00m\n\u001b[32m   1180\u001b[39m \u001b[38;5;28;01melse\u001b[39;00m:\n\u001b[32m-> \u001b[39m\u001b[32m1181\u001b[39m     StreamHandler.\u001b[34m__init__\u001b[39m(\u001b[38;5;28mself\u001b[39m, \u001b[38;5;28;43mself\u001b[39;49m\u001b[43m.\u001b[49m\u001b[43m_open\u001b[49m\u001b[43m(\u001b[49m\u001b[43m)\u001b[49m)\n",
      "\u001b[36mFile \u001b[39m\u001b[32m~/.pyenv/versions/3.11.6/lib/python3.11/logging/__init__.py:1213\u001b[39m, in \u001b[36mFileHandler._open\u001b[39m\u001b[34m(self)\u001b[39m\n\u001b[32m   1208\u001b[39m \u001b[38;5;250m\u001b[39m\u001b[33;03m\"\"\"\u001b[39;00m\n\u001b[32m   1209\u001b[39m \u001b[33;03mOpen the current base file with the (original) mode and encoding.\u001b[39;00m\n\u001b[32m   1210\u001b[39m \u001b[33;03mReturn the resulting stream.\u001b[39;00m\n\u001b[32m   1211\u001b[39m \u001b[33;03m\"\"\"\u001b[39;00m\n\u001b[32m   1212\u001b[39m open_func = \u001b[38;5;28mself\u001b[39m._builtin_open\n\u001b[32m-> \u001b[39m\u001b[32m1213\u001b[39m \u001b[38;5;28;01mreturn\u001b[39;00m \u001b[43mopen_func\u001b[49m\u001b[43m(\u001b[49m\u001b[38;5;28;43mself\u001b[39;49m\u001b[43m.\u001b[49m\u001b[43mbaseFilename\u001b[49m\u001b[43m,\u001b[49m\u001b[43m \u001b[49m\u001b[38;5;28;43mself\u001b[39;49m\u001b[43m.\u001b[49m\u001b[43mmode\u001b[49m\u001b[43m,\u001b[49m\n\u001b[32m   1214\u001b[39m \u001b[43m                 \u001b[49m\u001b[43mencoding\u001b[49m\u001b[43m=\u001b[49m\u001b[38;5;28;43mself\u001b[39;49m\u001b[43m.\u001b[49m\u001b[43mencoding\u001b[49m\u001b[43m,\u001b[49m\u001b[43m \u001b[49m\u001b[43merrors\u001b[49m\u001b[43m=\u001b[49m\u001b[38;5;28;43mself\u001b[39;49m\u001b[43m.\u001b[49m\u001b[43merrors\u001b[49m\u001b[43m)\u001b[49m\n",
      "\u001b[31mOSError\u001b[39m: [Errno 28] No space left on device: '/Users/surelmanda/Data-Science-Projects/MedNLPix/src/mednlpix/logger/logs/mednlpix.features.preprocessing.text_cleaner.log'"
     ]
    }
   ],
   "source": [
    "from mednlpix.features.preprocessing import MedicalTextPreprocessor"
   ]
  },
  {
   "cell_type": "code",
   "execution_count": 9,
   "id": "9c8ab4a4",
   "metadata": {},
   "outputs": [
    {
     "ename": "NameError",
     "evalue": "name '__file__' is not defined",
     "output_type": "error",
     "traceback": [
      "\u001b[31m---------------------------------------------------------------------------\u001b[39m",
      "\u001b[31mNameError\u001b[39m                                 Traceback (most recent call last)",
      "\u001b[36mCell\u001b[39m\u001b[36m \u001b[39m\u001b[32mIn[9]\u001b[39m\u001b[32m, line 4\u001b[39m\n\u001b[32m      1\u001b[39m \u001b[38;5;28;01mimport\u001b[39;00m\u001b[38;5;250m \u001b[39m\u001b[34;01msys\u001b[39;00m\n\u001b[32m      2\u001b[39m \u001b[38;5;28;01mfrom\u001b[39;00m\u001b[38;5;250m \u001b[39m\u001b[34;01mpathlib\u001b[39;00m\u001b[38;5;250m \u001b[39m\u001b[38;5;28;01mimport\u001b[39;00m Path\n\u001b[32m----> \u001b[39m\u001b[32m4\u001b[39m ROOT = Path(\u001b[34;43m__file__\u001b[39;49m).resolve().parents[\u001b[32m3\u001b[39m]\n\u001b[32m      5\u001b[39m sys.path.append(\u001b[38;5;28mstr\u001b[39m(ROOT))\n",
      "\u001b[31mNameError\u001b[39m: name '__file__' is not defined"
     ]
    }
   ],
   "source": [
    "import sys\n",
    "from pathlib import Path\n",
    "\n",
    "ROOT = Path(__file__).resolve().parents[3]\n",
    "sys.path.append(str(ROOT))\n"
   ]
  },
  {
   "cell_type": "code",
   "execution_count": 5,
   "id": "17a75a6a",
   "metadata": {},
   "outputs": [
    {
     "ename": "ModuleNotFoundError",
     "evalue": "No module named 'mednlpix.config'",
     "output_type": "error",
     "traceback": [
      "\u001b[31m---------------------------------------------------------------------------\u001b[39m",
      "\u001b[31mModuleNotFoundError\u001b[39m                       Traceback (most recent call last)",
      "\u001b[36mCell\u001b[39m\u001b[36m \u001b[39m\u001b[32mIn[5]\u001b[39m\u001b[32m, line 1\u001b[39m\n\u001b[32m----> \u001b[39m\u001b[32m1\u001b[39m \u001b[38;5;28;01mfrom\u001b[39;00m\u001b[38;5;250m \u001b[39m\u001b[34;01mmednlpix\u001b[39;00m\u001b[34;01m.\u001b[39;00m\u001b[34;01mfeatures\u001b[39;00m\u001b[34;01m.\u001b[39;00m\u001b[34;01mpreprocessing\u001b[39;00m\u001b[38;5;250m \u001b[39m\u001b[38;5;28;01mimport\u001b[39;00m MedicalTextPreprocessor\n\u001b[32m      3\u001b[39m \u001b[38;5;66;03m# Instantiate and fit on training data\u001b[39;00m\n\u001b[32m      4\u001b[39m preprocessor = MedicalTextPreprocessor()\n",
      "\u001b[36mFile \u001b[39m\u001b[32m~/Data-Science-Projects/MedNLPix/src/mednlpix/features/preprocessing/__init__.py:3\u001b[39m\n\u001b[32m      1\u001b[39m \u001b[38;5;66;03m# src/mednlpix/features/preprocessing/__init__.py\u001b[39;00m\n\u001b[32m----> \u001b[39m\u001b[32m3\u001b[39m \u001b[38;5;28;01mfrom\u001b[39;00m\u001b[38;5;250m \u001b[39m\u001b[34;01mmednlpix\u001b[39;00m\u001b[34;01m.\u001b[39;00m\u001b[34;01mfeatures\u001b[39;00m\u001b[34;01m.\u001b[39;00m\u001b[34;01mpreprocessing\u001b[39;00m\u001b[34;01m.\u001b[39;00m\u001b[34;01mmedical_preprocessor\u001b[39;00m\u001b[38;5;250m \u001b[39m\u001b[38;5;28;01mimport\u001b[39;00m MedicalTextPreprocessor\n\u001b[32m      4\u001b[39m \u001b[38;5;28;01mfrom\u001b[39;00m\u001b[38;5;250m \u001b[39m\u001b[34;01mmednlpix\u001b[39;00m\u001b[34;01m.\u001b[39;00m\u001b[34;01mfeatures\u001b[39;00m\u001b[34;01m.\u001b[39;00m\u001b[34;01mpreprocessing\u001b[39;00m\u001b[34;01m.\u001b[39;00m\u001b[34;01mtext_cleaner\u001b[39;00m\u001b[38;5;250m \u001b[39m\u001b[38;5;28;01mimport\u001b[39;00m clean_text\n\u001b[32m      5\u001b[39m \u001b[38;5;28;01mfrom\u001b[39;00m\u001b[38;5;250m \u001b[39m\u001b[34;01mmednlpix\u001b[39;00m\u001b[34;01m.\u001b[39;00m\u001b[34;01mfeatures\u001b[39;00m\u001b[34;01m.\u001b[39;00m\u001b[34;01mpreprocessing\u001b[39;00m\u001b[34;01m.\u001b[39;00m\u001b[34;01mbase\u001b[39;00m\u001b[38;5;250m \u001b[39m\u001b[38;5;28;01mimport\u001b[39;00m BasePreprocessor\n",
      "\u001b[36mFile \u001b[39m\u001b[32m~/Data-Science-Projects/MedNLPix/src/mednlpix/features/preprocessing/medical_preprocessor.py:5\u001b[39m\n\u001b[32m      3\u001b[39m \u001b[38;5;28;01mfrom\u001b[39;00m\u001b[38;5;250m \u001b[39m\u001b[34;01mmednlpix\u001b[39;00m\u001b[34;01m.\u001b[39;00m\u001b[34;01mlogger\u001b[39;00m\u001b[34;01m.\u001b[39;00m\u001b[34;01mlogger\u001b[39;00m\u001b[38;5;250m \u001b[39m\u001b[38;5;28;01mimport\u001b[39;00m setup_logger\n\u001b[32m      4\u001b[39m \u001b[38;5;28;01mfrom\u001b[39;00m\u001b[38;5;250m \u001b[39m\u001b[34;01mmednlpix\u001b[39;00m\u001b[34;01m.\u001b[39;00m\u001b[34;01mfeatures\u001b[39;00m\u001b[34;01m.\u001b[39;00m\u001b[34;01mpreprocessing\u001b[39;00m\u001b[34;01m.\u001b[39;00m\u001b[34;01mbase\u001b[39;00m\u001b[38;5;250m \u001b[39m\u001b[38;5;28;01mimport\u001b[39;00m BasePreprocessor\n\u001b[32m----> \u001b[39m\u001b[32m5\u001b[39m \u001b[38;5;28;01mfrom\u001b[39;00m\u001b[38;5;250m \u001b[39m\u001b[34;01mmednlpix\u001b[39;00m\u001b[34;01m.\u001b[39;00m\u001b[34;01mfeatures\u001b[39;00m\u001b[34;01m.\u001b[39;00m\u001b[34;01mpreprocessing\u001b[39;00m\u001b[34;01m.\u001b[39;00m\u001b[34;01mtext_cleaner\u001b[39;00m\u001b[38;5;250m \u001b[39m\u001b[38;5;28;01mimport\u001b[39;00m clean_text\n\u001b[32m      7\u001b[39m logger = setup_logger(\u001b[34m__name__\u001b[39m)\n\u001b[32m     10\u001b[39m \u001b[38;5;28;01mclass\u001b[39;00m\u001b[38;5;250m \u001b[39m\u001b[34;01mMedicalTextPreprocessor\u001b[39;00m(BasePreprocessor):\n",
      "\u001b[36mFile \u001b[39m\u001b[32m~/Data-Science-Projects/MedNLPix/src/mednlpix/features/preprocessing/text_cleaner.py:2\u001b[39m\n\u001b[32m      1\u001b[39m \u001b[38;5;66;03m# src/mednlpix/features/preprocessing/text_cleaner.py\u001b[39;00m\n\u001b[32m----> \u001b[39m\u001b[32m2\u001b[39m \u001b[38;5;28;01mfrom\u001b[39;00m\u001b[38;5;250m \u001b[39m\u001b[34;01mmednlpix\u001b[39;00m\u001b[34;01m.\u001b[39;00m\u001b[34;01mconfig\u001b[39;00m\u001b[38;5;250m \u001b[39m\u001b[38;5;28;01mimport\u001b[39;00m nltk_setup  \u001b[38;5;66;03m# This ensures NLTK resources are ready\u001b[39;00m\n\u001b[32m      3\u001b[39m \u001b[38;5;28;01mimport\u001b[39;00m\u001b[38;5;250m \u001b[39m\u001b[34;01mre\u001b[39;00m\n\u001b[32m      4\u001b[39m \u001b[38;5;28;01mfrom\u001b[39;00m\u001b[38;5;250m \u001b[39m\u001b[34;01mnltk\u001b[39;00m\u001b[34;01m.\u001b[39;00m\u001b[34;01mcorpus\u001b[39;00m\u001b[38;5;250m \u001b[39m\u001b[38;5;28;01mimport\u001b[39;00m stopwords\n",
      "\u001b[31mModuleNotFoundError\u001b[39m: No module named 'mednlpix.config'"
     ]
    }
   ],
   "source": [
    "from mednlpix.features.preprocessing import MedicalTextPreprocessor\n",
    "\n",
    "# Instantiate and fit on training data\n",
    "preprocessor = MedicalTextPreprocessor()\n",
    "\n",
    "train_clean = preprocessor.fit_transform(train_df)\n",
    "valid_clean = preprocessor.transform(valid_df)\n",
    "test_clean  = preprocessor.transform(test_df)\n",
    "\n",
    "print(f\"Train cleaned: {train_clean.shape}\")\n",
    "print(f\"Valid cleaned: {valid_clean.shape}\")\n",
    "print(f\"Test cleaned: {test_clean.shape}\")\n",
    "\n",
    "display(train_clean.head())\n"
   ]
  }
 ],
 "metadata": {
  "kernelspec": {
   "display_name": "mednlpix-py3.11",
   "language": "python",
   "name": "python3"
  },
  "language_info": {
   "codemirror_mode": {
    "name": "ipython",
    "version": 3
   },
   "file_extension": ".py",
   "mimetype": "text/x-python",
   "name": "python",
   "nbconvert_exporter": "python",
   "pygments_lexer": "ipython3",
   "version": "3.11.6"
  }
 },
 "nbformat": 4,
 "nbformat_minor": 5
}
